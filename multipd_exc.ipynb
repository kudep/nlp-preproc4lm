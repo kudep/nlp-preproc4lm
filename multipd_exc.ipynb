{
 "cells": [
  {
   "cell_type": "code",
   "execution_count": null,
   "metadata": {},
   "outputs": [],
   "source": [
    "%load_ext autoreload\n",
    "%autoreload 2"
   ]
  },
  {
   "cell_type": "code",
   "execution_count": null,
   "metadata": {},
   "outputs": [],
   "source": [
    "import pandas as pd\n",
    "from pathlib import Path\n",
    "from glob import glob\n",
    "from ufal.udpipe import Model, Pipeline\n",
    "from utils import multipd\n",
    "import collections"
   ]
  },
  {
   "cell_type": "code",
   "execution_count": null,
   "metadata": {},
   "outputs": [],
   "source": [
    "from_dir_prefix = '../../tmp/tw-super-tiny/archiveteam-twitter-stream-2013-01-0*'\n",
    "# from_dir_prefix = '../../tmp/tw-tiny/archiveteam-twitter-stream-2013-01-0*'\n",
    "to_dir_prefix = Path('../../tmp/tw-tiny-out/')\n",
    "vocab_to_file = Path('/tmp/workers/vocab.txt')\n",
    "modelfile4udpipe = './russian-syntagrus-ud-2.0-170801.udpipe'\n",
    "files = list(glob(from_dir_prefix))\n",
    "cpu_n = 5"
   ]
  },
  {
   "cell_type": "code",
   "execution_count": null,
   "metadata": {},
   "outputs": [],
   "source": [
    "\n",
    "model = Model.load(modelfile4udpipe)\n",
    "udpipeline = Pipeline(model, 'tokenize', Pipeline.DEFAULT, Pipeline.DEFAULT, 'horizontal')\n"
   ]
  },
  {
   "cell_type": "code",
   "execution_count": null,
   "metadata": {},
   "outputs": [],
   "source": [
    "word_counts = multipd.timeouted_run_pool(files,udpipeline,to_dir_prefix, cpu_n=5, timeout_duration=10)\n",
    "word_count = sum(word_counts, collections.Counter())"
   ]
  },
  {
   "cell_type": "code",
   "execution_count": null,
   "metadata": {},
   "outputs": [],
   "source": [
    "vocab = [ '%s\\n' % word for word, _ in word_count.most_common()[:-1]]\n",
    "vocab.append(word_count.most_common()[-1][0])"
   ]
  },
  {
   "cell_type": "code",
   "execution_count": null,
   "metadata": {},
   "outputs": [],
   "source": [
    "open(str(vocab_to_file), 'wt').writelines(vocab)"
   ]
  }
 ],
 "metadata": {
  "kernelspec": {
   "display_name": "Python 3",
   "language": "python",
   "name": "python3"
  },
  "language_info": {
   "codemirror_mode": {
    "name": "ipython",
    "version": 3
   },
   "file_extension": ".py",
   "mimetype": "text/x-python",
   "name": "python",
   "nbconvert_exporter": "python",
   "pygments_lexer": "ipython3",
   "version": "3.5.2"
  }
 },
 "nbformat": 4,
 "nbformat_minor": 2
}
